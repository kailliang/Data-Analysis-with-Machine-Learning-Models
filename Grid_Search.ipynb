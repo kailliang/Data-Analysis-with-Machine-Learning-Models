{
  "nbformat": 4,
  "nbformat_minor": 0,
  "metadata": {
    "colab": {
      "provenance": [],
      "mount_file_id": "1Ykp-6j59YAl_ZgApTHwqbjTKsIauP1DQ",
      "authorship_tag": "ABX9TyMGVkTt3PdfioLAGdUyfc43",
      "include_colab_link": true
    },
    "kernelspec": {
      "name": "python3",
      "display_name": "Python 3"
    },
    "language_info": {
      "name": "python"
    }
  },
  "cells": [
    {
      "cell_type": "markdown",
      "metadata": {
        "id": "view-in-github",
        "colab_type": "text"
      },
      "source": [
        "<a href=\"https://colab.research.google.com/github/kailliang/Data-Science-with-Machine-Learning-Models/blob/main/Grid_Search.ipynb\" target=\"_parent\"><img src=\"https://colab.research.google.com/assets/colab-badge.svg\" alt=\"Open In Colab\"/></a>"
      ]
    },
    {
      "cell_type": "code",
      "source": [
        "import pandas as pd\n",
        "from sklearn.model_selection import train_test_split, KFold, cross_val_score\n",
        "from sklearn.preprocessing import LabelEncoder\n",
        "from imblearn.over_sampling import SMOTE\n",
        "from sklearn.model_selection import train_test_split\n",
        "from sklearn.preprocessing import LabelEncoder\n",
        "from sklearn.ensemble import RandomForestClassifier, GradientBoostingClassifier\n",
        "from sklearn.metrics import accuracy_score, precision_score, recall_score, f1_score, roc_auc_score\n",
        "from sklearn.metrics import classification_report\n",
        "from sklearn.svm import SVC\n",
        "# from xgboost import XGBClassifier\n",
        "random_state = 2023\n",
        "\n",
        "# Read data\n",
        "data = pd.read_csv('/content/drive/MyDrive/data.csv')\n",
        "\n",
        "date_columns = ['reported_date', 'target_finish', 'actual_finish']\n",
        "# Parse date-time columns\n",
        "for col in ['reported_date', 'target_finish', 'actual_finish']:\n",
        "    data[col] = pd.to_datetime(data[col], dayfirst=True, errors='coerce')\n",
        "\n",
        "# Drop rows with invalid datetime values\n",
        "data = data.dropna(subset=date_columns)\n",
        "# Create \"on_time\" column\n",
        "data['on_time'] = (data['actual_finish'] <= data['target_finish']).astype(int)\n",
        "\n",
        "# Create \"job_duration\" column\n",
        "data['job_duration'] = (data['target_finish'] - data['reported_date']).dt.total_seconds() / 3600\n",
        "\n",
        "# Handle missing data\n",
        "data = data.dropna()\n",
        "\n",
        "# Create time features\n",
        "data['reported_hour'] = data['reported_date'].dt.hour\n",
        "data['reported_day_of_week'] = data['reported_date'].dt.dayofweek\n",
        "data['reported_month'] = data['reported_date'].dt.month\n",
        "data['reported_year'] = data['reported_date'].dt.year\n",
        "\n",
        "data['target_hour'] = data['target_finish'].dt.hour\n",
        "data['target_day_of_week'] = data['target_finish'].dt.dayofweek\n",
        "data['target_month'] = data['target_finish'].dt.month\n",
        "data['target_year'] = data['target_finish'].dt.year\n",
        "\n",
        "# Encode categorical features\n",
        "le = LabelEncoder()\n",
        "data['location_type'] = le.fit_transform(data['location_type'])\n",
        "data['raised_within_workhours'] = le.fit_transform(data['raised_within_workhours'])\n",
        "\n",
        "# Select features and target\n",
        "features = data[['priority', 'location_type', 'raised_within_workhours', 'reported_hour', 'reported_day_of_week', \n",
        "                 'reported_month', 'reported_year', 'target_hour', 'target_day_of_week', 'target_month', 'target_year']]\n",
        "\n",
        "target = data['on_time']\n",
        "\n",
        "# Handle Class Imbalance with SMOTE\n",
        "sm = SMOTE(random_state=random_state)\n",
        "features_res, target_res = sm.fit_resample(features, target)\n",
        "# Split the dataset into train and test sets\n",
        "X_train, X_test, y_train, y_test = train_test_split(features_res, target_res, test_size=0.2, random_state=2023)\n",
        "\n",
        "# Create and train the model\n",
        "\n",
        "svm_model = SVC(kernel='rbf', gamma = 0.05, C=50)        # 77.36%\n",
        "# svm_model = SVC(kernel='linear', C=50)\n",
        "\n",
        "gb_model = GradientBoostingClassifier(random_state=random_state)  # 71.80%\n",
        "\n",
        "# xgbc_model = XGBClassifier(eval_metric='logloss')       # 77.70%\n",
        "\n",
        "\n"
      ],
      "metadata": {
        "id": "tkv-hR5OZ1xS"
      },
      "execution_count": null,
      "outputs": []
    },
    {
      "cell_type": "code",
      "source": [
        "\n",
        "from sklearn.model_selection import GridSearchCV\n",
        "# from sklearn.grid_search import GridSearchCV\n",
        "rf = RandomForestClassifier()    \n",
        "param_grid = {   'n_estimators': [500,2000],  # no. of trees    \n",
        "                               'max_depth': [None, 10, 30],     # max deepth of trees   \n",
        "                               'min_samples_split': [2, 10],    # minimun samples to split a tree    \n",
        "                               'min_samples_leaf': [2, 4],      # minimun samples in a leaf, too few will be pruned\n",
        "                               'bootstrap': [True]}             # whether sampled data will be put back\n",
        "                              \n",
        "grid_search = GridSearchCV(estimator=rf, param_grid=param_grid, cv=5, verbose=2, n_jobs=-1)\n",
        "grid_search.fit(X_train, y_train)\n",
        "best_params = grid_search.best_params_\n",
        "print(\"最佳参数：\", best_params)"
      ],
      "metadata": {
        "colab": {
          "base_uri": "https://localhost:8080/"
        },
        "id": "CLiSifnxZ1vk",
        "outputId": "cbe85c9d-37fa-4572-a443-9a4a650eb9b9"
      },
      "execution_count": 4,
      "outputs": [
        {
          "output_type": "stream",
          "name": "stdout",
          "text": [
            "Fitting 5 folds for each of 24 candidates, totalling 120 fits\n",
            "最佳参数： {'bootstrap': True, 'max_depth': 30, 'min_samples_leaf': 2, 'min_samples_split': 2, 'n_estimators': 500}\n"
          ]
        }
      ]
    },
    {
      "cell_type": "code",
      "execution_count": 5,
      "metadata": {
        "colab": {
          "base_uri": "https://localhost:8080/"
        },
        "id": "jHWdNV0RYmWX",
        "outputId": "8e282764-7186-4a08-e4ce-66363c970ba2"
      },
      "outputs": [
        {
          "output_type": "stream",
          "name": "stdout",
          "text": [
            "Accuracy: 78.15%\n"
          ]
        }
      ],
      "source": [
        "\n",
        "best_params = grid_search.best_params_\n",
        "rf_model = RandomForestClassifier(**best_params)\n",
        "model = rf_model\n",
        "\n",
        "# Define K-fold cross validation\n",
        "kfold = KFold(n_splits=10, random_state=random_state, shuffle=True)\n",
        "\n",
        "# Perform K-fold cross validation\n",
        "results = cross_val_score(model, features_res, target_res, cv=kfold)\n",
        "\n",
        "# Print cross validation score\n",
        "print(\"Accuracy: %.2f%%\" % (results.mean()*100))\n"
      ]
    }
  ]
}